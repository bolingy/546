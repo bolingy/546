{
 "cells": [
  {
   "cell_type": "markdown",
   "metadata": {},
   "source": [
    "# 546 (hybrid systems) hw1\n",
    "\n",
    "You are welcome (and encouraged) to work with others, but each individual must submit their own writeup.\n",
    "\n",
    "You are welcome to use analytical and numerical computational tools; if you do, include the **commented** sourcecode in your writeup (e.g. the .ipynb file).\n",
    "\n",
    "You are welcome to consult research articles and other materials; if you do, include a full citation in your writeup (e.g. the .ipynb file) and upload a .pdf of the article to Canvas alongside your homework submission."
   ]
  },
  {
   "cell_type": "markdown",
   "metadata": {},
   "source": [
    "# hybrid system examples (lecture)\n",
    "\n",
    "Choose one of the following example hybrid systems from lecture:  ball bouncing; neuron firing; protein binding; thermostat switching.  \n",
    "\n",
    "a. Add an application-relevant input; does your input change whether the discrete transitions are *switched* or *forced*?\n",
    "\n",
    "In the thermostat switching system, an input $a \\in\\mathbb{R}^2$ is added to the system where the first parameter of the input controls the upper bound of the tempreture range and the second parameter controls the lower bound. This input does change the discrete transitions, from the user point of view it is a forced transition and it's switched transition for the thermostat controller.\n"
   ]
  },
  {
   "cell_type": "markdown",
   "metadata": {},
   "source": [
    "b. Specify the hybrid system elements $(D,U,F,G,R)$ for your system from (a.).\n",
    "\n",
    "$D = (t | a_1 > t > a_2)$ where $t\\in\\mathbb{R}$ is the tempreture, for discrete states $h$ can be either on or off to indicate if the thermostat is heating up the room.\n",
    "\n",
    "$U = t$ lets assume that the continuous input is the tempreture sensor that measure the room tempreture.\n",
    "\n",
    "$F = TD$ where $T$ decribe a transform from the sensor measured tempreture to a micro controller understandable protocol.\n",
    "\n",
    "$G = \\{t = a_1, h = on \\}, \\{t = a_2, h = off\\}$ there are two forced discrete transition in this system, when the tempreture gets to the upper bound the heating will be turned off and it will be turned on if the tempreture gets to lower bound.\n",
    "\n",
    "Discrete transition $R$ will only be state $h$ changing between on and off, where the D does not change along discrete transition."
   ]
  },
  {
   "cell_type": "markdown",
   "metadata": {},
   "source": [
    "# hybrid system examples (literature)\n",
    "\n",
    "Choose an example hybrid system other than those given in lecture (i.e. **NOT**  ball bouncing; neuron firing; protein binding; thermostat switching); you are welcome to choose a system from a conference or journal paper.\n",
    "\n",
    "a. Describe the system, and what makes it hybrid; are the discrete transitions *switched* or *forced*?\n",
    "\n",
    "Lets assume a robotic arm with a parallel jaws gripper has 3 degrees of freedom (3 rotational joints). In different object manipulation scenario, the system is described by difference $D$ and $F$. For example, when the robot is rotating a door knob, one or more joints can be contrained by the door knob. An other hand, if the gripper is holding an arbitrary object, joints will not be as contrained as the first example, but the weight of the object will still effect verticle oriented joints. Therefore, servoing this system is hybrid when the gripper different manipulation tasks.\n",
    "\n",
    "For the question below, we assume that $\\theta_1$ represent the angle of base rotational joint which rotates along the z axis, $\\theta_2$ represent a second joint that rotates along y axis, and $\\theta_3$ rotate the gripper along x axis with respect to each of their own frame. link $l_1$ connects $\\theta_1$ and $\\theta_2$, $l_2$ connects $\\theta_2$ and $\\theta_3$, the gripper is mounted on the other side of $l_2$."
   ]
  },
  {
   "cell_type": "markdown",
   "metadata": {},
   "source": [
    "b. Specify the hybrid system elements $(D,U,F,G,R)$ for your system from (a.).\n",
    "\n",
    "As it as has been explained above, there are many possible (yet countable) discrete states in this system. In this quetion, we are going to assume there are three discrete states this system will need to handle.\n",
    "\n",
    "1. The gripper is not holding anything.\n",
    "2. The gripper is holding an object with weight m.\n",
    "3. The gripper is holding a door knob, and try to rotate it. Assume the door knob responses a resistance torque $\\tau_r$ to any rotation $\\tau_{in}$, where $\\tau_r = -k\\tau_{in}$. \n",
    "\n",
    "$D = \\{(\\theta_1, \\theta_2, \\theta_3, \\dot{\\theta_1}, \\dot{\\theta_2}, \\dot{\\theta_3}) | \\theta_2 < 180^\\circ \\}$ for case 1 and case 2. Since all of the joints are still moveable.\n",
    "\n",
    "$D = \\{(\\theta_3,\\dot{\\theta_3}) \\}$ for case 3. While the gripper is firmly holding the door knob, $\\theta_1,\\theta_2$ are constrained.\n",
    "\n",
    "$U = \\{ (\\tau_1, \\tau_2, \\tau_3)\\}$ are the torques of joint 1, 2 and 3 for case 1 and 2. In case 3 $U = \\{ \\tau_3 \\}$.\n",
    "\n",
    "$F = \\{ (\\dot{\\tau_1}, \\dot{\\tau_2}, \\dot{\\tau_3}, \\tau_1, \\tau_2, \\tau_3) \\}$ for case 1.\n",
    "$F = \\{ (\\dot{\\tau_1}, \\dot{\\tau_2}, \\dot{\\tau_3}, \\tau_1, \\tau_2 - mg, \\tau_3) \\}$ for case 2.\n",
    "$F = \\{ (\\dot{\\tau_3}, \\tau_3 - k\\tau_3) \\}$ for case 3.\n",
    "\n",
    "In this system, there is not a direct descrete state control input $R$ can change states. Also, there are difference $G$ for difference situations. Therefore to define the guard set we should first define the location of the manipulated objects for case 2 and 3. For case 2 we define the grasp point (location) of the object to be $p_1 = (x_1,y_1,z_1)$ and the door knob grasp point at $p_2 = (x_2, y_2, z_2)$. And then we define an function $K(\\theta_1, \\theta_2, \\theta_3)$ to calculate the forward kinamatic then return the gripper end factor pose in Cartisian cordination.\n",
    "\n",
    "$G$ and $R$ can be now defined as follow:\n",
    "\n",
    "$\\{ \\forall d \\in D | K(d) = p_1 \\}$ has a force transistion from case 1 to 2.\n",
    "\n",
    "And $\\{ \\forall d \\in D | K(d) = p_2 \\}$ results a force transistion from case 1 to 3.\n",
    "\n",
    "all the other $d \\in D$ will indicate the system is in case 1.\n",
    "\n",
    "We can distinguish $G$ and $R$ by checking weather the end factor is located by input $u \\in U$ or result by either object mass or unknew external forces."
   ]
  },
  {
   "cell_type": "markdown",
   "metadata": {},
   "source": [
    "# combining hybrid systems\n",
    "Determine how to combine two hybrid systems $H_1$, $H_2$ to produce a third hybrid system $H$ that has $H_1$ and $H_2$ as subsystems.\n",
    "\n",
    "For the two descrete systems, $J = J_1 \\times J_2 = \\{ (j_1,j_2) : j_1\\in J_2,j_2\\in J_2 \\}$, $A = A_1\\times A_2$, $R = (R_1 * J_1\\times A_1, R_2 * J_2\\times A_2)$. For the guard space, we will have $G_1 \\land G_2$, because $J$ is now a combination of two system, any force transistion for either subsystems will result a force transistion in the new system.\n",
    "\n",
    "The combination of continuous systems should be fairly similar to the descrete systems, where $D = D_1\\times D_2$, $U = U_1 \\times U_2$, the input should be all of the combination of possible inputs of two systems $F = (T_1*D_1, T_2*D_2)$."
   ]
  },
  {
   "cell_type": "code",
   "execution_count": null,
   "metadata": {
    "collapsed": true
   },
   "outputs": [],
   "source": []
  }
 ],
 "metadata": {
  "anaconda-cloud": {},
  "kernelspec": {
   "display_name": "Python [Root]",
   "language": "python",
   "name": "Python [Root]"
  },
  "language_info": {
   "codemirror_mode": {
    "name": "ipython",
    "version": 3
   },
   "file_extension": ".py",
   "mimetype": "text/x-python",
   "name": "python",
   "nbconvert_exporter": "python",
   "pygments_lexer": "ipython3",
   "version": "3.5.2"
  }
 },
 "nbformat": 4,
 "nbformat_minor": 0
}
