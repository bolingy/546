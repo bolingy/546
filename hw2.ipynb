{
 "cells": [
  {
   "cell_type": "markdown",
   "metadata": {},
   "source": [
    "# 546 (hybrid systems) hw2\n",
    "\n",
    "You are welcome (and encouraged) to work with others, but each individual must submit their own writeup.\n",
    "\n",
    "You are welcome to use analytical and numerical computational tools; if you do, include the **commented** sourcecode in your writeup (e.g. the .ipynb file).\n",
    "\n",
    "You are welcome to consult research articles and other materials; if you do, include a full citation in your writeup (e.g. the .ipynb file) and upload a .pdf of the article to Canvas alongside your homework submission."
   ]
  },
  {
   "cell_type": "code",
   "execution_count": 23,
   "metadata": {
    "collapsed": true
   },
   "outputs": [],
   "source": [
    "from random import randint\n",
    "import matplotlib.pyplot as plt\n",
    "import numpy as np\n",
    "import math\n",
    "%matplotlib inline"
   ]
  },
  {
   "cell_type": "markdown",
   "metadata": {},
   "source": [
    "# simulating discrete systems\n",
    "\n",
    "a. Write a simulation algorithm for discrete systems; use the following function signature:"
   ]
  },
  {
   "cell_type": "code",
   "execution_count": 13,
   "metadata": {
    "collapsed": false
   },
   "outputs": [],
   "source": [
    "def sim_discrete(R, a, K, j0):\n",
    "    \"\"\"\n",
    "    numerical simulation for discrete system\n",
    "\n",
    "    inputs:\n",
    "    R : [0,K] x J x A -> J\n",
    "    a : [0,K] x J -> A\n",
    "      [0,K] - discrete times\n",
    "      J - discrete states\n",
    "      A - actions\n",
    "    K   - int    - maximum discrete simulation time\n",
    "    j0  - object - initial discrete state\n",
    "\n",
    "    outputs:\n",
    "    k - list - discrete times\n",
    "    j - list - discrete states\n",
    "    \"\"\"\n",
    "    k,j= [0],[j0]\n",
    "    for s in range(1, K+1):\n",
    "        k.append(s)\n",
    "        j.append(R(s,j[-1],a))\n",
    "    return k,j"
   ]
  },
  {
   "cell_type": "markdown",
   "metadata": {},
   "source": [
    "b. Demonstrate that your simulation algorithm works correctly by applying it to an interesting example, explaining the expected behavior, and providing a visualization that demonstrates the expected behavior.\n",
    "\n",
    "For both discrete and continous simulation, I will be using the following system as example (from hw1). \n",
    "\n",
    "Lets assume a robotic arm with a parallel jaws gripper has 3 degrees of freedom (3 rotational joints). In different object manipulation scenario, the system is described by difference $D$ and $F$. For example, when the robot is rotating a door knob, one or more joints can be contrained by the door knob. An other hand, if the gripper is holding an arbitrary object, joints will not be as contrained as the first example, but the weight of the object will still effect verticle oriented joints. Therefore, servoing this system is hybrid when the gripper different manipulation tasks.\n",
    "\n",
    "We assume that $\\theta_1$ represent the angle of base rotational joint which rotates along the z axis, $\\theta_2$ represent a second joint that rotates along y axis, and $\\theta_3$ rotate the gripper along x axis with respect to each of their own frame. link $l_1$ connects $\\theta_1$ and $\\theta_2$, $l_2$ connects $\\theta_2$ and $\\theta_3$, the gripper is mounted on the other side of $l_2$. Input $U = \\{ (\\tau_1, \\tau_2, \\tau_3)\\}$ are the torques of joint 1, 2 and 3 for case 1 and 2. In case 3 $U = \\{ \\tau_3 \\}$.\n",
    "\n",
    "The following simulation will describe the discrete states transistions in this system:\n",
    "\n",
    "1. The gripper is not holding anything.\n",
    "2. The gripper is holding an object with weight m.\n",
    "3. The gripper is holding a door knob, and try to rotate it. Assume the door knob responses a resistance torque $\\tau_r$ to any rotation $\\tau_{in}$, where $\\tau_r = -k\\tau_{in}$.\n",
    "\n",
    "For case 2 we define the grasp point (location) of the object to be $p_1 = (4, 8, 3)$ and the door knob grasp point at $p_2 = (2, 3, 4)$. And then we define an function $K(\\theta_1, \\theta_2, \\theta_3)$ to calculate the forward kinamatic then return the gripper end factor pose in Cartisian cordination.\n",
    "\n",
    "$\\{ \\forall d \\in D | K(d) = p_1 \\}$ has a force transistion from case 1 to 2.\n",
    "\n",
    "And $\\{ \\forall d \\in D | K(d) = p_2 \\}$ results a force transistion from case 1 to 3.\n",
    "\n",
    "all the other $d \\in D$ will indicate the system is in case 1."
   ]
  },
  {
   "cell_type": "code",
   "execution_count": 17,
   "metadata": {
    "collapsed": false
   },
   "outputs": [
    {
     "name": "stdout",
     "output_type": "stream",
     "text": [
      "i is:  1\n",
      "i is:  5\n",
      "i is:  3\n",
      "i is:  2\n",
      "i is:  3\n",
      "i is:  2\n",
      "i is:  4\n",
      "i is:  5\n",
      "i is:  2\n",
      "i is:  3\n",
      "state transistion: \n",
      "[1, 1, 1, 3, 2, 3, 2, 1, 1, 2, 3]\n"
     ]
    }
   ],
   "source": [
    "# forward kinamatic function - to simplify this function (for the purpose of testing the sim_discrete),\n",
    "# this function accept a system state then simulate a forward kinamatic output cx, cy, cz. The simulation\n",
    "# is just randomly pick a point from 5 pre-defined points.\n",
    "def K(x):\n",
    "    i = randint(1,5)\n",
    "    print (\"i is: \", i)\n",
    "    if i == 2:\n",
    "        cx,cy,cz = 4,8,3\n",
    "    elif i == 3:\n",
    "        cx,cy,cz = 2,3,4\n",
    "    elif i == 1:\n",
    "        cx,cy,cz = 1,2,3\n",
    "    elif i == 4:\n",
    "        cx,cy,cz = 5,3,7\n",
    "    else:\n",
    "        cx,cy,cz = 47,36,7\n",
    "    \n",
    "    return cx,cy,cz\n",
    "\n",
    "# a state machine function to simulate the \n",
    "def R(t, x, a):\n",
    "    cx,cy,cz = K(x)\n",
    "    j = 1 # default case 1 holding nothing\n",
    "    if cx==4 and cy==8 and cz==3:\n",
    "        j = 2\n",
    "    elif cx==2 and cy==3 and cz==4:\n",
    "        j = 3\n",
    "        \n",
    "    return j\n",
    "\n",
    "\n",
    "# start simulation\n",
    "a = 0 # no switch control in this case\n",
    "j0 = 1 # initial condition gripper is holding nothing\n",
    "iteration = 10\n",
    "k,j = sim_discrete(R, a, iteration, j0);\n",
    "print(\"state transistion: \")\n",
    "print(j)"
   ]
  },
  {
   "cell_type": "markdown",
   "metadata": {},
   "source": [
    "The state transisiton above shows the output of simulation, i is the random generated points. Whenever $i = 2$ or $3$ the state simulation output should be $2$ or $3$. Note the the $i^{th}$ state should matches the $(i-1)^{th}$ value, since the the state variable included the initial state. And we can see the simulation works as expected."
   ]
  },
  {
   "cell_type": "markdown",
   "metadata": {},
   "source": [
    "# simulating continuous systems\n",
    "\n",
    "a. Write a simulation algorithm for continuous systems; use the following function signature:"
   ]
  },
  {
   "cell_type": "code",
   "execution_count": 50,
   "metadata": {
    "collapsed": true
   },
   "outputs": [],
   "source": [
    "def sim_continuous(F, u, T, x0, dt):\n",
    "    \"\"\"\n",
    "    numerical simulation for continuous system\n",
    "\n",
    "    inputs:\n",
    "    F : [0,T] x D x U -> D\n",
    "    u : [0,T] x D -> U\n",
    "      [0,T] - continuous times\n",
    "      D - continuous states\n",
    "      U - inputs\n",
    "    T   - scalar - maximum continuous simulation time\n",
    "    x0  - object - initial continuous state\n",
    "    dt  - scalar - simulation timestep parameter\n",
    "\n",
    "    outputs:\n",
    "    t - list - discrete times\n",
    "    x - list - discrete states\n",
    "    \"\"\"\n",
    "    j,t,x = 0,[0],[x0]\n",
    "    while j*dt < T:\n",
    "        t.append((j+1)*dt)\n",
    "        x.append(x[-1] + dt*F(j*dt, x[-1],u))\n",
    "        j += 1\n",
    "    \n",
    "    return np.asarray(t),np.asarray(x)"
   ]
  },
  {
   "cell_type": "markdown",
   "metadata": {},
   "source": [
    "b. Demonstrate that your simulation algorithm works correctly by applying it to an interesting example, explaining the expected behavior, and providing a visualization that demonstrates the expected behavior.\n",
    "\n",
    "In this case, we will pick case 2 of the system above to simulate the continuous trajectory. In this case, we assume the robotic gripper is holding an object with 3kg weight, and the initial condition of the simulation is that $\\theta_1 = 45^{\\circ}, \\theta_2 = 80^{\\circ}, \\theta_3 = 0^{\\circ}, \\dot{\\theta_1} = 0, \\dot{\\theta_2} = 0, \\dot{\\theta_3} = 0$, with constant input $0, 0, 10$. Note that the robotic arm is assume to state in the previous state when without input. The simulation result matches my expectation, $\\theta_2$ drops to zero because of the object gravitational forse, $ \\dot{\\theta_2}$ decrease as well. Because of the constant input signal, $\\theta_3$ and $\\dot{\\theta_3}$ are increasing along time."
   ]
  },
  {
   "cell_type": "code",
   "execution_count": 68,
   "metadata": {
    "collapsed": false
   },
   "outputs": [
    {
     "data": {
      "image/png": "[encoded data removed]",
      "text/plain": [
       "<matplotlib.figure.Figure at 0x21438066198>"
      ]
     },
     "metadata": {},
     "output_type": "display_data"
    }
   ],
   "source": [
    "m = 3\n",
    "g = 9.8\n",
    "def F(t, x, u):\n",
    "    a,b,c,ad,bd,cd = x\n",
    "    t1,t2,t3 = u\n",
    "    o1, o2, o3 = t1, t2-m*g*math.sin(b), t3\n",
    "    # physical constrain\n",
    "    #if b <= 0:\n",
    "    #    print(bd, -bd)\n",
    "    #    bd, o2, b = -bd, 0, 0\n",
    "    return np.array([ad, bd, cd, o1, o2, o3])\n",
    "\n",
    "# start simulation\n",
    "u = [0,0,10]\n",
    "T = 0.3 # approximately 2 periods\n",
    "dt = 1e-4\n",
    "x0 = np.array([math.radians(45), math.radians(80), math.radians(0), 0, 0, 0]) # initial condition\n",
    "t_,x_ = sim_continuous(F, u, T, x0, dt)\n",
    "\n",
    "\n",
    "plt.plot(t_,x_[:,0], label='theta1')\n",
    "plt.plot(t_,x_[:,1], label='theta2')\n",
    "plt.plot(t_,x_[:,2], label='theta3')\n",
    "plt.plot(t_,x_[:,3], label='theta_dot1')\n",
    "plt.plot(t_,x_[:,4], label='theta_dot2')\n",
    "plt.plot(t_,x_[:,5], label='theta_dot3')\n",
    "plt.legend()\n",
    "plt.title('Joints Trajectory')\n",
    "plt.xlabel('time (sec)')\n",
    "plt.ylabel('joint angle(radians)/ angular velocity(radians/sec)')\n",
    "plt.show(block=True)"
   ]
  },
  {
   "cell_type": "markdown",
   "metadata": {},
   "source": [
    "Different initial condition just for fun (work as expected as well, simulation function is correct). This simulation has a constant input on $\\theta_2$ such that the arm is not falling because of the object, but even slightly rising."
   ]
  },
  {
   "cell_type": "code",
   "execution_count": 67,
   "metadata": {
    "collapsed": false
   },
   "outputs": [
    {
     "data": {
      "image/png": "[encoded data removed]",
      "text/plain": [
       "<matplotlib.figure.Figure at 0x21437ed6d68>"
      ]
     },
     "metadata": {},
     "output_type": "display_data"
    }
   ],
   "source": [
    "# start simulation\n",
    "u = [4,30,0]\n",
    "T = 0.3 # approximately 2 periods\n",
    "dt = 1e-4\n",
    "x0 = np.array([math.radians(0), math.radians(80), math.radians(0), 0, 0, 0]) # initial condition\n",
    "t_,x_ = sim_continuous(F, u, T, x0, dt)\n",
    "\n",
    "\n",
    "\n",
    "plt.plot(t_,x_[:,0], label='theta0')\n",
    "plt.plot(t_,x_[:,1], label='theta1')\n",
    "plt.plot(t_,x_[:,2], label='theta2')\n",
    "plt.plot(t_,x_[:,3], label='theta_dot0')\n",
    "plt.plot(t_,x_[:,4], label='theta_dot1')\n",
    "plt.plot(t_,x_[:,5], label='theta_dot2')\n",
    "plt.legend()\n",
    "plt.title('Joints Trajectory')\n",
    "plt.xlabel('time (sec)')\n",
    "plt.ylabel('joint angle(radians)/ angular velocity(radians/sec)')\n",
    "plt.show(block=True)"
   ]
  },
  {
   "cell_type": "code",
   "execution_count": null,
   "metadata": {
    "collapsed": true
   },
   "outputs": [],
   "source": []
  }
 ],
 "metadata": {
  "anaconda-cloud": {},
  "kernelspec": {
   "display_name": "Python [Root]",
   "language": "python",
   "name": "Python [Root]"
  },
  "language_info": {
   "codemirror_mode": {
    "name": "ipython",
    "version": 3
   },
   "file_extension": ".py",
   "mimetype": "text/x-python",
   "name": "python",
   "nbconvert_exporter": "python",
   "pygments_lexer": "ipython3",
   "version": "3.5.2"
  }
 },
 "nbformat": 4,
 "nbformat_minor": 0
}
