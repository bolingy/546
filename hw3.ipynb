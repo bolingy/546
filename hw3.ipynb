{
 "cells": [
  {
   "cell_type": "markdown",
   "metadata": {},
   "source": [
    "# 546 (hybrid systems) hw3\n",
    "\n",
    "You are welcome (and encouraged) to work with others, but each individual must submit their own writeup.\n",
    "\n",
    "You are welcome to use analytical and numerical computational tools; if you do, include the **commented** sourcecode in your writeup (e.g. the .ipynb file).\n",
    "\n",
    "You are welcome to consult research articles and other materials; if you do, include a full citation in your writeup (e.g. the .ipynb file) and upload a .pdf of the article to Canvas alongside your homework submission."
   ]
  },
  {
   "cell_type": "markdown",
   "metadata": {},
   "source": [
    "# paper presentation proposal\n",
    "\n",
    "a. Choose a paper from the research literature that you will read, understand, and present sometime in weeks 6--10 of the quarter.  Explain why you chose this paper.  Include a full citation here, and upload a .pdf of the article to Canvas alongside your homework submission.\n",
    "\n",
    "I choose the following paper:\n",
    "\n",
    "An Iterative Path Integral Stochastic Optimal Control Approach for Learning Robotic Tasks\n",
    "\n",
    "Theodorou, Evangelos, et al. \"An iterative path integral stochastic optimal control approach for learning robotic tasks.\" IFAC Proceedings Volumes 44.1 (2011): 11594-11601.\n",
    "APA\t\n",
    "\n",
    "This paper presented an iterative version of path integral stochastic optimal control, which is applicable to high dimensional control/planning problems. This paper is relative to my project because I want to create a hybrid system for human robot interaction which could be a high dimention system, since a robot arm has 7 DoF, an object has 6 DoF and human arm has 7 DoF as well. I want to present this method to the class because this is an powerful tool that anyone of our classmates can be benefited from it. Anyone who wants to achieve optimal control of a high dimention system with machine learning approach could consider using this framework.\n",
    "\n",
    "b. Is the paper primarily *theoretical*, *computational*, *both*, or *other (explain)*?\n",
    "\n",
    "This paper is both theoretical and computational. It presents a theoretical method, but to show my understanding, I will have to follow the method and do computational work. \n",
    "\n",
    "c. What aspect(s) of this paper will you aim to understand? *(Refer to the Paper presentation section of the Syllabus for presentation requirements and guidelines.)*\n",
    "\n",
    "I will aim to understand the technique from the paper and extend the technique to my own project (on simulation). Since I still haven't fully understand all of the technical details of this paper, I won't be able to explain further more on my plan...\n",
    "\n",
    "d. How do you plan to present your understanding to the class?  (e.g. walk through an analytical example on the whiteboard, display visualizations from numerical simulations, etc.)\n",
    "\n",
    "I will first explain the general purpose of the method and how it has been used in other projects, this will help my classmates to understand what kinds of problems this method solves. Then, I will try to go through the technical process step by step. However, I don't think it's going to be easily understandable without reading the article, so I probably won't get into too much mathematical details. In the end, I will show the result of the method extension on my project visualizing numerical simulations\n",
    "."
   ]
  },
  {
   "cell_type": "code",
   "execution_count": null,
   "metadata": {
    "collapsed": true
   },
   "outputs": [],
   "source": []
  }
 ],
 "metadata": {
  "anaconda-cloud": {},
  "kernelspec": {
   "display_name": "Python [Root]",
   "language": "python",
   "name": "Python [Root]"
  },
  "language_info": {
   "codemirror_mode": {
    "name": "ipython",
    "version": 3
   },
   "file_extension": ".py",
   "mimetype": "text/x-python",
   "name": "python",
   "nbconvert_exporter": "python",
   "pygments_lexer": "ipython3",
   "version": "3.5.2"
  }
 },
 "nbformat": 4,
 "nbformat_minor": 0
}
