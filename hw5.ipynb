{
 "cells": [
  {
   "cell_type": "markdown",
   "metadata": {},
   "source": [
    "# 546 (hybrid systems) hw4\n",
    "\n",
    "You are welcome (and encouraged) to work with others, but each individual must submit their own writeup.\n",
    "\n",
    "You are welcome to use analytical and numerical computational tools; if you do, include the **commented** sourcecode in your writeup (e.g. the .ipynb file).\n",
    "\n",
    "You are welcome to consult research articles and other materials; if you do, include a full citation in your writeup (e.g. the .ipynb file) and upload a .pdf of the article to Canvas alongside your homework submission."
   ]
  },
  {
   "cell_type": "markdown",
   "metadata": {},
   "source": [
    "# research project proposal\n",
    "\n",
    "a. Specify a hybrid systems research problem that you will try to solve by finals week; try to be as clear and terse as possible in your problem statement.\n",
    "\n",
    "I will try to model human robot interaction process with hybrid system and perform motion planning and control to the system. I am hoping create this hybrid model such that it is generalizable to any (most of) the human robot interaction motions. However, for the motion planning and control, I will specifically focus on HRI scenario - object hand-off between human and robot. The reason I choose the hand-off scenario is that relative research fields have been well explored in the pass, such that there are existing evaluation functions that can be used to guide the continuous motion in difference discrete states of a hand-off process. I am hoping to improve the whole hand-off experience by optimizing difference cost functions in difference discrete states using hybrid system.\n"
   ]
  },
  {
   "cell_type": "markdown",
   "metadata": {},
   "source": [
    "b. Explain why you chose this problem, and the status of the state-of-the-art approaches to this problem in the hybrid systems literature; include full citation(s) here, and upload .pdf(s) of the article(s) to Canvas alongside your homework submission.\n",
    "\n",
    "Any physical interaction between human and robot has very strong hybridness, however, there are not much researches have been done in this field yet. To the best of my knowledge, there is no work has been done on optimizing human robot hand-off process in hybrid system terms. A manipulation related hybrid system paper is shown below:\n",
    "\n",
    "Johnson, Aaron M., Samuel A. Burden, and Daniel E. Koditschek. \"A hybrid systems model for simple manipulation and self-manipulation systems.\" The International Journal of Robotics Research 35.11 (2016): 1354-1392.\n",
    "\n",
    "However, there are large number of hand-off researches have been done, and these are some of the chosen papers which will serve as guidance to my research:\n",
    "\n",
    "Cost functions and application:\n",
    "\n",
    "Bestick, Aaron M., et al. \"Personalized kinematics for human-robot collaborative manipulation.\" Intelligent Robots and Systems (IROS), 2015 IEEE/RSJ International Conference on. IEEE, 2015.\n",
    "\n",
    "Cakmak, Maya, et al. \"Human preferences for robot-human hand-over configurations.\" Intelligent Robots and Systems (IROS), 2011 IEEE/RSJ International Conference on. IEEE, 2011.\n",
    "\n",
    "Human likness and safty:\n",
    "\n",
    "Edsinger, Aaron, and Charles C. Kemp. \"Human-robot interaction for cooperative manipulation: Handing objects to one another.\" Robot and Human interactive Communication, 2007. RO-MAN 2007. The 16th IEEE International Symposium on. IEEE, 2007.\n",
    "\n",
    "Approach direction, height adn distance:\n",
    "\n",
    "Koay, Kheng Lee, et al. \"Exploratory Study of a Robot Approaching a Person in the Context of Handing Over an Object.\" AAAI spring symposium: multidisciplinary collaboration for socially assistive robotics. 2007.\n",
    "\n",
    "Giver and receiver trajectory and velocity:\n",
    "\n",
    "Shibata, Satoru, Kanya Tanaka, and Akira Shimizu. \"Experimental analysis of handing over.\" Robot and Human Communication, 1995. RO-MAN'95 TOKYO, Proceedings., 4th IEEE International Workshop on. IEEE, 1995.\n",
    "\n",
    "Motion plannign:\n",
    "\n",
    "Plaku, Erion, Lydia E. Kavraki, and Moshe Y. Vardi. \"A motion planner for a hybrid robotic system with kinodynamic constraints.\" Robotics and Automation, 2007 IEEE International Conference on. IEEE, 2007."
   ]
  },
  {
   "cell_type": "markdown",
   "metadata": {},
   "source": [
    "c. What aspect of this problem will you try to solve?  (If this is a group project, specify your group members, and be clear about the division of labor.)\n",
    "\n",
    "I will first try to create a hybrid model for human robot hand over task. I will try to include enough system details in the model such that it is not only feasible for hand over task, but also generalizable to other human robot collaborative tasks as well.\n",
    "\n",
    "Second I will try to achieve object hand over through existing motion planning and control method (or one of them if time is in constain) in such system. Note that these process will be run in simulation.\n",
    "\n",
    "However, RL in this system can potentially be highly effective, therefore, more investigation might be continued during summer."
   ]
  },
  {
   "cell_type": "markdown",
   "metadata": {},
   "source": [
    "d. What will be your approach to solving this problem?\n",
    "\n",
    "The main knowledge I would use for the model construction are the hybrid system theory that presented in EE 546 and existing hand-off researches that I listed above. The hybrid robotic system planner will be implemented for motion planning as well. Since the motion planner finished the high level searching, typical optimal control methods will be able to apply to the lowest level robot controls."
   ]
  },
  {
   "cell_type": "markdown",
   "metadata": {},
   "source": [
    "e. What will you do if your proposed approach fails?  (i.e. do you have a backup plan?)\n",
    "\n",
    "The part that is most likely to fail in this proposal can be the implementation of hybrid motion planner. If I can get the framework working in my system, I will replace it with other RRT or SRT mehtod that people has applied in hybrid systems."
   ]
  },
  {
   "cell_type": "code",
   "execution_count": null,
   "metadata": {
    "collapsed": true
   },
   "outputs": [],
   "source": [
    ""
   ]
  }
 ],
 "metadata": {
  "anaconda-cloud": {},
  "kernelspec": {
   "display_name": "Python 2",
   "language": "python",
   "name": "python2"
  },
  "language_info": {
   "codemirror_mode": {
    "name": "ipython",
    "version": 2.0
   },
   "file_extension": ".py",
   "mimetype": "text/x-python",
   "name": "python",
   "nbconvert_exporter": "python",
   "pygments_lexer": "ipython2",
   "version": "2.7.6"
  }
 },
 "nbformat": 4,
 "nbformat_minor": 0
}