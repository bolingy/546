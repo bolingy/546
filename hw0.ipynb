{
 "cells": [
  {
   "cell_type": "markdown",
   "metadata": {},
   "source": [
    "# 546 (hybrid systems) hw0\n",
    "\n",
    "This assignment will be graded on participation; so long as you make an effort on each problem and upload a legible pdf to Canvas, you will receive full credit."
   ]
  },
  {
   "cell_type": "markdown",
   "metadata": {},
   "source": [
    "# welcome to hybrid systems!\n",
    "\n",
    "a. Where are you at in your current program?  (e.g. 3rd year PhD student in EE), what were you doing before you enrolled in your current program, and what do you hope to do after you graduate?\n",
    "\n",
    "I am a 1st year MS student in EE. I worked on robotic manipulation and perception in the Sensor System Lab for one year after I received my BS degree on UW EE.\n",
    "\n",
    "b. Why did you enroll in this course, what do you hope to learn, and how do you plan to apply what you've learned?\n",
    "\n",
    "I am currently exploring the field of HRI, and I am interested in applying novel sensing techniques (possibly CV + pre-touch sensing) and hybrid system analysis to assist human robot co-manipulation.\n",
    "\n",
    "c. Would you prefer a greater emphasis on theory (i.e. abstract reasoning), computation (i.e. numerical algorithms), a mixture of both, or something else (explain)?\n",
    "\n",
    "Personally, practical example (using numerical algorithms on practical cases) would highly benefit my study. However, after the passed two quarters of control theory study, I realized that a good understanding on theoretical materials enable my thought on more abstract level. Therefore, a mixture of both would be great.\n",
    "\n",
    "d. Log in to Canvas and edit your Profile.  At a minimum, add a headshot photo and specify your preferred name.  Ideally, also add some details about your background and interests -- see my example at https://canvas.uw.edu/about/3510568.  (Note that this information is available to classmates and instructors in this and the other courses you're enrolled in at UW; it is not publicly available.)"
   ]
  },
  {
   "cell_type": "code",
   "execution_count": null,
   "metadata": {
    "collapsed": true
   },
   "outputs": [],
   "source": []
  }
 ],
 "metadata": {
  "anaconda-cloud": {},
  "kernelspec": {
   "display_name": "Python [Root]",
   "language": "python",
   "name": "Python [Root]"
  },
  "language_info": {
   "codemirror_mode": {
    "name": "ipython",
    "version": 3
   },
   "file_extension": ".py",
   "mimetype": "text/x-python",
   "name": "python",
   "nbconvert_exporter": "python",
   "pygments_lexer": "ipython3",
   "version": "3.5.2"
  }
 },
 "nbformat": 4,
 "nbformat_minor": 0
}
